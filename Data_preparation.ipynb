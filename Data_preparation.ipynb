{
 "cells": [
  {
   "cell_type": "code",
   "execution_count": 3,
   "id": "9ee1cc40-756a-4066-acf0-fcda39999883",
   "metadata": {},
   "outputs": [],
   "source": [
    "from ucimlrepo import fetch_ucirepo \n",
    "import pandas as pd\n",
    "import numpy as np\n",
    "statlog_german_credit_data = fetch_ucirepo(id=144) \n",
    "  \n",
    "# data (as pandas dataframes) \n",
    "X = statlog_german_credit_data.data.features \n",
    "y = statlog_german_credit_data.data.targets \n",
    "  \n",
    "# # metadata \n",
    "# print(statlog_german_credit_data.metadata) \n",
    "  \n",
    "# # variable information \n",
    "# print(statlog_german_credit_data.variables) \n",
    "\n",
    "# df=pd.concat([X,y],axis=1)\n",
    "# df.to_csv(\"german_credit_data.csv\", index=False)\n",
    "y1=np.where(y==1,'good','bad')\n",
    "features_df= pd.read_csv('german_credit_data.csv')\n",
    "features_df=features_df.iloc[:,1:]\n",
    "features_df[\"Risk\"]=y1\n",
    "features_df.to_csv('german_credit_with_risk.csv',index=False, na_rep='NA')"
   ]
  }
 ],
 "metadata": {
  "kernelspec": {
   "display_name": "Python (coding)",
   "language": "python",
   "name": "coding"
  },
  "language_info": {
   "codemirror_mode": {
    "name": "ipython",
    "version": 3
   },
   "file_extension": ".py",
   "mimetype": "text/x-python",
   "name": "python",
   "nbconvert_exporter": "python",
   "pygments_lexer": "ipython3",
   "version": "3.13.3"
  }
 },
 "nbformat": 4,
 "nbformat_minor": 5
}
